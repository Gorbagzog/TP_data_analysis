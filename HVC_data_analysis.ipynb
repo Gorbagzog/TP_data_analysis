{
 "cells": [
  {
   "cell_type": "markdown",
   "metadata": {},
   "source": [
    "# TP General Physics / M1\n",
    "\n",
    "## High Velocity Cloud Analysis in HI4PI Data\n",
    "\n",
    "\n",
    "##### author: Louis Legrand, adapted from Antoine Marchal, 2019/2020\n",
    "\n",
    "\n",
    "\n",
    "## 1. Introduction \n",
    "\n",
    "The study of our own galaxy, the Milky Way, is complicated by the fact that we are within it.\n",
    "The sun, located at 8.5 kpc from the galactic center, moves in a circular orbit with a radial velocity of\n",
    "220 km.s$^{-1}$.\n",
    "As a first approximation, we can discribe the galactic plane as a sum of three components : Gas (molecular and neutral hydrogen), Star\n",
    "and Dark Matter. Around this galactic plane, in what is called the galactic halo, there is an important gas reservoir mainly composed of neutral gas (HI).\n",
    "It turns out that this reservoir could be an important source of gas for the formation of molecular clouds, the place where stars are formed.\n",
    "To better understand the content and nature of this reservoir, we propose in this work to study one of these clouds, called High Velocity Clouds (HVC).\n",
    "\n",
    "\n",
    "\n",
    "\n",
    "<figure>\n",
    "  <img src=\"img/simulation.png\" alt=\"simulation.png\" style=\"width: 60%;\"/>\n",
    "  <figcaption>Figure 1: (a) Integrated intensity, (b) centroid velocity, and (c) velocity dispersion of a model CHVC (model Wb1a15b of\n",
    "    Heitsch & Putman 2009), traveling at $45\\,^{\\circ}$ to the observer. Contours are given at [1, 5, 9, 13] K km s-1.\n",
    "    (from Heitsch et al, 2016)</figcaption>\n",
    "</figure>\n",
    "\n",
    "\n",
    "Since their discorevy by Muller et al (1963), High Velocity Clouds are studied as isolated objects. They are defined\n",
    "as HI clouds with a radial velocity (typically $ V_r \\approx 200 \\, km.s^{-1}$) that cannot be explained by the rotation\n",
    "curve of the Milky Way (Wakker 1991). Figure 1 shows an HVC view from a numerical simulation performed by\n",
    "Heitsch et al, 2016. HI is observed since many years through the 21 cm hyperfine structure line, and the latest full sky survey\n",
    "has been released by the HI4PI collaboration. More details are present in this recent article :\n",
    "https://arxiv.org/abs/1610.06175.\n",
    "The research project we adress here is based on a single HVC cloud named HVC125+41-207.\n",
    "Starting from a part of this survey, we develop a simple method to obtain some physical properties of this cloud\n",
    "and its environment."
   ]
  },
  {
   "cell_type": "markdown",
   "metadata": {},
   "source": [
    "Some useful constants:\n",
    "- Atomic mass of hydrogen : $m_H = 1.6737236 \\times 10^{-27} \\, kg$\n",
    "- Definition of a parsec : $pc = 3.085677581467192 \\times 10^{16} \\, m$\n",
    "- Mass of the Sun : $M_{\\odot} = 1.9891 \\times 10^{30} \\, kg$\n",
    "- Mean mass per particle within the sphere : $\\mu \\approx 1.25 \\, m_H$\n",
    "- Boltzmann constant : $k = 1.38064852 \\times 10^{-23} \\, m^2.kg.s^{-2}.K^{-1}$\n"
   ]
  },
  {
   "cell_type": "markdown",
   "metadata": {},
   "source": [
    "## 2. Getting started - hyperspectral cube\n",
    "\n",
    "### 2.1 Reading Data from FITS Files\n",
    "\n",
    "This work is based on an hyperspectral observation of the 21 cm line\n",
    "(see representation figure 2). For each line of sigh across the observation, a simple Doppler effet calculation allows us to obtain a projected velocity spectrum. \n",
    "\n",
    "<figure>\n",
    "  <img src=\"img/hyperspectral.png\" alt=\"hyperspectral\" style=\"width: 40%;\"/>\n",
    "  <figcaption>Figure 2: 3D representation of a hyperspectral cube. All the points on a straight line in this cube compose a spectrum.\n",
    "  We can select a sub-regoin of this cube which corresponds to a smaller part of the sky.</figcaption>\n",
    "</figure>\n",
    "\n",
    "We propose to read this hyperspectral observation formatted in FITS using python.\n",
    "A good documentation is available via the following link: http://docs.astropy.org/en/stable/io/fits/\n",
    "\n",
    "First download the data cube. In your terminal go to the folder where this notebook is saved and run:\n",
    "\n",
    "```batch\n",
    "wget http://cdsarc.u-strasbg.fr/ftp/J/A+A/594/A116/CUBES/GAL/CAR/CAR_G07.fits```\n",
    "\n",
    "\n",
    "\n",
    "Some useful librairies to import.   \n",
    "(Press SHIFT+ENTER inside a cell to run it.)"
   ]
  },
  {
   "cell_type": "code",
   "execution_count": null,
   "metadata": {},
   "outputs": [],
   "source": [
    "import numpy as np\n",
    "import matplotlib.pyplot as plt\n",
    "from astropy.io import fits\n",
    "from astropy import wcs"
   ]
  },
  {
   "cell_type": "markdown",
   "metadata": {},
   "source": [
    "We load the hyperspectral cude using astropy.io.\n",
    "The hdulist is a list containing HDU objects (in our case there is only one hdu object). \n",
    "Each HDU object has a header and a data attributes. The header contains all the relevant information to exploit the data."
   ]
  },
  {
   "cell_type": "code",
   "execution_count": null,
   "metadata": {},
   "outputs": [],
   "source": [
    "hdu_list= fits.open(\"CAR_G07.fits\")\n",
    "hdu = hdu_list[0]\n",
    "\n",
    "header = hdu.header\n",
    "data = hdu.data"
   ]
  },
  {
   "cell_type": "code",
   "execution_count": null,
   "metadata": {},
   "outputs": [],
   "source": [
    "data.shape"
   ]
  },
  {
   "cell_type": "markdown",
   "metadata": {},
   "source": [
    "We can see that our data cube has three dimensions.\n",
    "The first dimension has a lenght of 933, the other two have a lenght of 266.\n",
    "\n",
    "Can you say to which physical measure each dimenson correspond ?"
   ]
  },
  {
   "cell_type": "markdown",
   "metadata": {},
   "source": [
    "### 2.2 Ploting data \n",
    "\n",
    "Each pixel in this cube is a brightness temperature, given in Kelvin. \n",
    "We can play a bit with this cube, for instance we can plot a 2D slice."
   ]
  },
  {
   "cell_type": "code",
   "execution_count": null,
   "metadata": {},
   "outputs": [],
   "source": [
    "plt.figure()\n",
    "plt.imshow(data[450], origin='lower')\n",
    "plt.colorbar(label='$T_b$ [K]')"
   ]
  },
  {
   "cell_type": "markdown",
   "metadata": {},
   "source": [
    "As you can see, the plot above has no legends on the axes, we need to convert the index of pixels into physical values. This information is contained in the header."
   ]
  },
  {
   "cell_type": "code",
   "execution_count": null,
   "metadata": {},
   "outputs": [],
   "source": [
    "header"
   ]
  },
  {
   "cell_type": "markdown",
   "metadata": {},
   "source": [
    "We see that the header object contains several fields. \n",
    "To associate a physicalquantity to the pixel counts we will use the CRVAL, CRPIX and CDELT.\n",
    "\n",
    "CRVAL is the physical value (in unit CUNIT) associated to the pixel number CRPIX. CDELT is the increment between to pixels. \n",
    "\n",
    "Write a function that returns the velocity corresponding to the pixel index pix."
   ]
  },
  {
   "cell_type": "code",
   "execution_count": null,
   "metadata": {},
   "outputs": [],
   "source": [
    "CRPIX = 0  # complete here \n",
    "CRVAL = 0\n",
    "CDELT = 0\n",
    "\n",
    "def pix2vel(pix, CRPIX, CRVAL, CDELT):\n",
    "    \"\"\"Returns the velocity (in km/s) correpsonding to the pixel pix.\"\"\"\n",
    "    vel = 0  #Complete here \n",
    "    return vel  "
   ]
  },
  {
   "cell_type": "markdown",
   "metadata": {},
   "source": [
    "Now we can plot a spectrum for one given position in the sky."
   ]
  },
  {
   "cell_type": "code",
   "execution_count": null,
   "metadata": {},
   "outputs": [],
   "source": [
    "# Plot a velocity spectrum for one pixel in the sky "
   ]
  },
  {
   "cell_type": "markdown",
   "metadata": {},
   "source": [
    "To plot the correct coordinates in the galactic referential, we will use a wcs object, which easily deals with this."
   ]
  },
  {
   "cell_type": "code",
   "execution_count": null,
   "metadata": {},
   "outputs": [],
   "source": [
    "hvc_wcs = wcs.WCS(header)\n",
    "hvc_wcs2d = hvc_wcs.dropaxis(2)\n",
    "\n",
    "plt.figure()\n",
    "\n",
    "# Create a plot in the correct angular frame\n",
    "plt.subplot(projection=hvc_wcs2d)\n",
    "\n",
    "# Exemple of how to plot a slice of the cube in the galactic frame. \n",
    "plt.imshow(data[0])"
   ]
  },
  {
   "cell_type": "markdown",
   "metadata": {},
   "source": [
    "## 2.3 High Velocity Cloud location\n",
    "\n",
    "From the Temperature brightness as a function of velocity, we can compute the column density (in number of Hydrogen atoms per surface) :\n",
    "\n",
    "$$ \n",
    "\\frac{ N_{HI}}{cm^{-2}} = 1.82243 \\times 10^{18} \\times \\int_{-\\infty}^{+\\infty} \\left(\\frac{T_b(v)}{K} \\right) d\\left( \\frac{v}{km.s^{-1}}\\right)\n",
    "$$\n",
    "\n",
    "\n",
    "Note that we can direclty obtain the surface density :\n",
    "\n",
    "$$\n",
    "\\begin{align}\n",
    "  \\Sigma = \\frac{\\left<N_{HI}\\right> \\, m_H \\, pc^2}{M_\\odot}\n",
    "\\end{align}\n",
    "$$\n",
    "where $m_H$ is the atomic mass of hydrogen, $pc$ is the definition of a parsec,\n",
    "and $M_{\\odot}$ is the mass of the Sun.\n",
    "\n",
    "\n",
    "A first exercice would be to visualize the total integreted column density map of the field. "
   ]
  },
  {
   "cell_type": "code",
   "execution_count": null,
   "metadata": {},
   "outputs": [],
   "source": [
    "### Compute the integrated column density map and plot it."
   ]
  },
  {
   "cell_type": "markdown",
   "metadata": {},
   "source": [
    "\n",
    "There is no clear evidence of an HVC in this map, simply because the total integrated density is dominated\n",
    "by the HI emission of the Milky Way. \n",
    "Indeed, the HVC HVC125+41-207 is located in the following spectral range :\n",
    "\n",
    "$v_{rad} (km.s^{-1}) = [-225, -185]$.\n",
    "\n",
    "From the article describing the HI4PI survey, it is also possible to clean the cube from the instrumental noise. \n",
    "For exemple we can keep all values greater than $3 \\times \\sigma_{rms}$, with $\\sigma_{rms}$ the sensitivity of the radio telescope used.\n",
    "\n",
    "After clenaing the cuba and selecting the spectral range, we can plot the HVC.\n",
    "\n",
    "Note that the galactic longitude range and the galactic latitude range of the cube are respectively\n",
    "$l(deg) \\in [119, 141]$ and $b(deg) \\in [19, 51]$. We can zoom in on this rectangle of the sky to have a celar vview of the HVC."
   ]
  },
  {
   "cell_type": "code",
   "execution_count": null,
   "metadata": {},
   "outputs": [],
   "source": [
    "### Plot the column density map of the HVC."
   ]
  },
  {
   "cell_type": "markdown",
   "metadata": {},
   "source": [
    "## 3. Physical properties of the HVC\n",
    "\n",
    "### 3.1 Mean spectra of the HVC\n",
    "\n",
    "\n",
    "To obtain some physical properties of this clump, we can analize the mean spectrum of the HVC. Figure 3.1 shows a schematic view of the numerical calculation required to obtain the average spectrum of the cloud from the hyperspectral cube.\n",
    "\n",
    "\n",
    "<figure>\n",
    "  <img src=\"img/spectra.png\" alt=\"hyperspectral\" style=\"width: 60%;\"/>\n",
    "  <figcaption>Figure 3: Representation of the passage of hyperspectral data to the mean spectrum of the cloud.</figcaption>\n",
    "</figure>\n",
    "\n",
    "\n",
    "Considering that the observed velocity dispersion is only due to the thermal Doppler broadening, the kinetic temperature\n",
    "of our system $T_k$ can be written as :\n",
    "$$\n",
    "\\begin{align}\n",
    "  T_k = \\frac{m_H \\, \\sigma_v^2}{k} \\, (K),\n",
    "\\end{align}\n",
    "$$\n",
    "where $\\sigma_v$ is computed by fitting a Gaussian function on the average spectrum obtained previously.\n"
   ]
  },
  {
   "cell_type": "code",
   "execution_count": null,
   "metadata": {},
   "outputs": [],
   "source": [
    "### Compute the mean temperature of the cloud"
   ]
  },
  {
   "cell_type": "markdown",
   "metadata": {},
   "source": [
    "### 3.2 Two phases in the cloud \n",
    "\n",
    "Following the work of Bruns et al. 2001, and as we can see on the velocity spectrum, it seems that there are two phases."
   ]
  },
  {
   "cell_type": "code",
   "execution_count": null,
   "metadata": {},
   "outputs": [],
   "source": [
    "### Find the temperature of the two phases."
   ]
  },
  {
   "cell_type": "code",
   "execution_count": null,
   "metadata": {},
   "outputs": [],
   "source": [
    "### Show the location of the two phases "
   ]
  },
  {
   "cell_type": "markdown",
   "metadata": {},
   "source": [
    "### 3.3 Pressure in the cloud\n",
    "\n",
    "As a first approximation, we can applied the Virial equilibrium to obtain the pressure outside the HVC as a function\n",
    "of the distance d (preferentialy expressed in kpc which is a unit of length used in astronomy).\n",
    "It is nothing more than the balance between the inner and outer medium.\n",
    "\n",
    "$$\n",
    "\\begin{align}\n",
    "  \\frac{P_s}{k} = \\underbrace{\\frac{\\left< N_{HI} \\right> \\, T_k}{d \\, \\theta}}_\\text{kinetic pressure} \\,\n",
    "  \\underbrace{- \\, \\frac{\\mu^2 \\, G \\, \\pi \\, \\left< N_{HI} \\right>^2}{15 \\, k}}_\\text{gravitational pressure}\n",
    "\\end{align}\n",
    "$$\n",
    "\n",
    "where $\\theta$ is the observed angular diameter in radian, $T_k$ is the kinetic temperature of the gas, d is the distance of the clump,\n",
    "$G$ and $k$ and respectively the gravitational constant and the Boltzmann constant, $\\left< N_{HI} \\right>$ is the mean value\n",
    "of the column density and $\\mu$ the mean mass per particle within the sphere.\n"
   ]
  },
  {
   "cell_type": "code",
   "execution_count": null,
   "metadata": {},
   "outputs": [],
   "source": [
    "### Compute the pressure inside the cloud, as a function of distance"
   ]
  },
  {
   "cell_type": "markdown",
   "metadata": {},
   "source": [
    "### 3.4 Compute the distance to the cloud\n",
    "\n",
    "Using equation 7 from Wolfire et al. 1995, one can compute the distance to the cloud."
   ]
  },
  {
   "cell_type": "code",
   "execution_count": null,
   "metadata": {},
   "outputs": [],
   "source": [
    "### Compute the distance to the cloud"
   ]
  },
  {
   "cell_type": "markdown",
   "metadata": {},
   "source": [
    "### 3.5 Get the mass of the cloud\n",
    "\n",
    "Using computations above, one can compute the mass of the cloud."
   ]
  },
  {
   "cell_type": "code",
   "execution_count": null,
   "metadata": {},
   "outputs": [],
   "source": []
  }
 ],
 "metadata": {
  "kernelspec": {
   "display_name": "Python 3",
   "language": "python",
   "name": "python3"
  },
  "language_info": {
   "codemirror_mode": {
    "name": "ipython",
    "version": 3
   },
   "file_extension": ".py",
   "mimetype": "text/x-python",
   "name": "python",
   "nbconvert_exporter": "python",
   "pygments_lexer": "ipython3",
   "version": "3.7.4"
  }
 },
 "nbformat": 4,
 "nbformat_minor": 2
}
